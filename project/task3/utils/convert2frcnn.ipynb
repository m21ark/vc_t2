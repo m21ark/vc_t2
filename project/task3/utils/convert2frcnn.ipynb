{
 "cells": [
  {
   "cell_type": "code",
   "execution_count": 4,
   "metadata": {},
   "outputs": [],
   "source": [
    "import json\n",
    "\n",
    "coco_format = {\n",
    "    \"images\": [],\n",
    "    \"annotations\": [],\n",
    "    \"categories\": [\n",
    "        {\n",
    "            \"id\": 1,\n",
    "            \"name\": \"LegoPiece\",\n",
    "            \"supercategory\": \"object\"\n",
    "        }\n",
    "    ]\n",
    "}\n",
    "\n",
    "image_files = []\n",
    "\n",
    "import os\n",
    "for root, dirs, files in os.walk(\"../data/imgs\"):\n",
    "    for file in files:\n",
    "        if file.endswith(\".jpg\"):\n",
    "            image_files.append(file)\n",
    "            \n",
    "image_files = sorted(image_files)\n",
    "            \n",
    "for idx, image_file in enumerate(image_files, 1):\n",
    "    coco_format[\"images\"].append({\n",
    "        \"id\": idx,\n",
    "        \"width\": 224,\n",
    "        \"height\": 224,\n",
    "        \"file_name\": image_file,\n",
    "})"
   ]
  },
  {
   "cell_type": "code",
   "execution_count": 5,
   "metadata": {},
   "outputs": [],
   "source": [
    "idx = 1\n",
    "idy = 1\n",
    "for image_file in image_files:\n",
    "     # read the annotation file with same name as the image file\n",
    "    with open(f\"../data/labels/{image_file.replace('.jpg', '.txt')}\") as f:\n",
    "        for line in f:\n",
    "            _, x_center, y_center, w, h = map(float, line.strip().split())\n",
    "            coco_format[\"annotations\"].append({\n",
    "                \"id\": idy,\n",
    "                \"image_id\": idx,\n",
    "                \"category_id\": 1,\n",
    "                \"bbox\": [x_center * 224 - w * 224 / 2, y_center * 224 - h * 224 / 2, w * 224, h * 224],\n",
    "                \"area\": w * h * 224 * 224,\n",
    "                \"iscrowd\": 0\n",
    "            })\n",
    "            idy += 1\n",
    "        idx += 1\n"
   ]
  },
  {
   "cell_type": "code",
   "execution_count": 6,
   "metadata": {},
   "outputs": [],
   "source": [
    "with open('faster_r_cnn.json', 'w') as f:\n",
    "    json.dump(coco_format, f)"
   ]
  }
 ],
 "metadata": {
  "kernelspec": {
   "display_name": "Python 3",
   "language": "python",
   "name": "python3"
  },
  "language_info": {
   "codemirror_mode": {
    "name": "ipython",
    "version": 3
   },
   "file_extension": ".py",
   "mimetype": "text/x-python",
   "name": "python",
   "nbconvert_exporter": "python",
   "pygments_lexer": "ipython3",
   "version": "3.10.12"
  }
 },
 "nbformat": 4,
 "nbformat_minor": 2
}
